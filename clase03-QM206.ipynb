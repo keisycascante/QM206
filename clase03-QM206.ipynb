{
  "nbformat": 4,
  "nbformat_minor": 0,
  "metadata": {
    "colab": {
      "provenance": [],
      "authorship_tag": "ABX9TyOWM4Z9hjQhEDH4ErusKkHD",
      "include_colab_link": true
    },
    "kernelspec": {
      "name": "python3",
      "display_name": "Python 3"
    },
    "language_info": {
      "name": "python"
    }
  },
  "cells": [
    {
      "cell_type": "markdown",
      "metadata": {
        "id": "view-in-github",
        "colab_type": "text"
      },
      "source": [
        "<a href=\"https://colab.research.google.com/github/keisycascante/QM206/blob/main/clase03-QM206.ipynb\" target=\"_parent\"><img src=\"https://colab.research.google.com/assets/colab-badge.svg\" alt=\"Open In Colab\"/></a>"
      ]
    },
    {
      "cell_type": "code",
      "execution_count": 1,
      "metadata": {
        "id": "-DdZKE1iIn9a"
      },
      "outputs": [],
      "source": [
        "import numpy as np"
      ]
    },
    {
      "cell_type": "code",
      "source": [
        "x=np.array([3,5,7,9])\n",
        "x"
      ],
      "metadata": {
        "colab": {
          "base_uri": "https://localhost:8080/"
        },
        "id": "92BgOg97JEQ-",
        "outputId": "82d86651-1a7c-4762-ecc4-2c149e66c06c"
      },
      "execution_count": null,
      "outputs": [
        {
          "output_type": "execute_result",
          "data": {
            "text/plain": [
              "array([3, 5, 7, 9])"
            ]
          },
          "metadata": {},
          "execution_count": 4
        }
      ]
    },
    {
      "cell_type": "code",
      "source": [
        "z=np.array([[1,2,3],[4,5,6],[7,8,9]])\n",
        "z"
      ],
      "metadata": {
        "colab": {
          "base_uri": "https://localhost:8080/"
        },
        "id": "XnNHsOYjJexQ",
        "outputId": "df214bfd-9a17-450d-c660-b6925f5004cb"
      },
      "execution_count": null,
      "outputs": [
        {
          "output_type": "execute_result",
          "data": {
            "text/plain": [
              "array([[1, 2, 3],\n",
              "       [4, 5, 6],\n",
              "       [7, 8, 9]])"
            ]
          },
          "metadata": {},
          "execution_count": 15
        }
      ]
    },
    {
      "cell_type": "code",
      "source": [
        "z=np.array([[1,2,3],[4,5,6],[7,8,9]])\n",
        "z"
      ],
      "metadata": {
        "colab": {
          "base_uri": "https://localhost:8080/"
        },
        "id": "_nzfVS2-KjNh",
        "outputId": "8c980bf0-f31a-4fcd-f77b-64af987c8505"
      },
      "execution_count": null,
      "outputs": [
        {
          "output_type": "execute_result",
          "data": {
            "text/plain": [
              "array([[1, 2, 3],\n",
              "       [4, 5, 6],\n",
              "       [7, 8, 9]])"
            ]
          },
          "metadata": {},
          "execution_count": 16
        }
      ]
    },
    {
      "cell_type": "code",
      "source": [
        "z=np.array([[1,2,3],[4,5,6],[7,8,9]])\n",
        "z[0]"
      ],
      "metadata": {
        "colab": {
          "base_uri": "https://localhost:8080/"
        },
        "id": "n5uDGYEjKQV7",
        "outputId": "f0a54d3b-afc6-409c-b9d2-621485f6efb8"
      },
      "execution_count": null,
      "outputs": [
        {
          "output_type": "execute_result",
          "data": {
            "text/plain": [
              "array([1, 2, 3])"
            ]
          },
          "metadata": {},
          "execution_count": 12
        }
      ]
    },
    {
      "cell_type": "code",
      "source": [
        "z=np.array([[1,2,3],[4,5,6],[7,8,9]])\n",
        "z[1]"
      ],
      "metadata": {
        "colab": {
          "base_uri": "https://localhost:8080/"
        },
        "id": "UehkClUHKSl-",
        "outputId": "9410c0a9-530c-4fa0-8862-da1cdd2499ad"
      },
      "execution_count": null,
      "outputs": [
        {
          "output_type": "execute_result",
          "data": {
            "text/plain": [
              "array([4, 5, 6])"
            ]
          },
          "metadata": {},
          "execution_count": 13
        }
      ]
    },
    {
      "cell_type": "code",
      "source": [
        "z=np.array([[1,2,3],[4,5,6],[7,8,9]])\n",
        "z[2,0]"
      ],
      "metadata": {
        "colab": {
          "base_uri": "https://localhost:8080/"
        },
        "id": "TPuV8tx6KWE_",
        "outputId": "d757ea6c-e495-47bd-c299-9ad8fd43e3db"
      },
      "execution_count": null,
      "outputs": [
        {
          "output_type": "execute_result",
          "data": {
            "text/plain": [
              "7"
            ]
          },
          "metadata": {},
          "execution_count": 14
        }
      ]
    },
    {
      "cell_type": "code",
      "source": [
        "z=np.array([[1,2,3],[4,5,6],[7,8,9]])\n",
        "z[0,2]"
      ],
      "metadata": {
        "colab": {
          "base_uri": "https://localhost:8080/"
        },
        "id": "hRJ21GyGKmPB",
        "outputId": "b2d4dc59-588e-4a7f-ebcb-5ea52a7f6b32"
      },
      "execution_count": null,
      "outputs": [
        {
          "output_type": "execute_result",
          "data": {
            "text/plain": [
              "3"
            ]
          },
          "metadata": {},
          "execution_count": 17
        }
      ]
    },
    {
      "cell_type": "code",
      "source": [
        "z=np.array([[1,2,3],[4,5,6],[7,8,9]])\n",
        "z[1,1]"
      ],
      "metadata": {
        "colab": {
          "base_uri": "https://localhost:8080/"
        },
        "id": "mREuqfALKorc",
        "outputId": "6527fcca-533f-4197-9476-7e99095099e6"
      },
      "execution_count": null,
      "outputs": [
        {
          "output_type": "execute_result",
          "data": {
            "text/plain": [
              "5"
            ]
          },
          "metadata": {},
          "execution_count": 18
        }
      ]
    },
    {
      "cell_type": "code",
      "source": [
        "z=np.array([[1,2,3],[4,5,6],[7,8,9]])\n",
        "z[:,1]"
      ],
      "metadata": {
        "colab": {
          "base_uri": "https://localhost:8080/"
        },
        "id": "5Ajovms3Kqw6",
        "outputId": "53003354-aaa3-4384-93ca-77262492d9af"
      },
      "execution_count": null,
      "outputs": [
        {
          "output_type": "execute_result",
          "data": {
            "text/plain": [
              "array([2, 5, 8])"
            ]
          },
          "metadata": {},
          "execution_count": 19
        }
      ]
    },
    {
      "cell_type": "code",
      "source": [
        "z=np.array([[1,2,3],[4,5,6],[7,8,9]])\n",
        "z[:,2]"
      ],
      "metadata": {
        "colab": {
          "base_uri": "https://localhost:8080/"
        },
        "id": "hG7CaJ8JLGoz",
        "outputId": "3e8afdd4-6cea-43d0-b89f-5aecba08ade9"
      },
      "execution_count": null,
      "outputs": [
        {
          "output_type": "execute_result",
          "data": {
            "text/plain": [
              "array([3, 6, 9])"
            ]
          },
          "metadata": {},
          "execution_count": 21
        }
      ]
    },
    {
      "cell_type": "code",
      "source": [
        "z=np.array([[1,2,3],[4,5,6],[7,8,9]])\n",
        "z[0,:]"
      ],
      "metadata": {
        "colab": {
          "base_uri": "https://localhost:8080/"
        },
        "id": "EiPuHpynLW6E",
        "outputId": "ea58e771-2283-4dba-8843-ab5bd5055a5c"
      },
      "execution_count": null,
      "outputs": [
        {
          "output_type": "execute_result",
          "data": {
            "text/plain": [
              "array([1, 2, 3])"
            ]
          },
          "metadata": {},
          "execution_count": 22
        }
      ]
    },
    {
      "cell_type": "code",
      "source": [
        "z=np.array([[1,2,3],[4,5,6],[7,8,9]])\n",
        "z[2,:]"
      ],
      "metadata": {
        "colab": {
          "base_uri": "https://localhost:8080/"
        },
        "id": "PI1WfHU7LZzj",
        "outputId": "05edcbd3-d0b1-40da-b3c7-232443cea793"
      },
      "execution_count": null,
      "outputs": [
        {
          "output_type": "execute_result",
          "data": {
            "text/plain": [
              "array([7, 8, 9])"
            ]
          },
          "metadata": {},
          "execution_count": 23
        }
      ]
    },
    {
      "cell_type": "code",
      "source": [
        "print(x)\n",
        "print(np.sum(x))\n",
        "print(np.sum(x*x))"
      ],
      "metadata": {
        "colab": {
          "base_uri": "https://localhost:8080/"
        },
        "id": "RFj4rUkVLpgA",
        "outputId": "5b46d53f-0041-4d45-98af-2f2c3328c9f8"
      },
      "execution_count": null,
      "outputs": [
        {
          "output_type": "stream",
          "name": "stdout",
          "text": [
            "[3 5 7 9]\n",
            "24\n",
            "164\n"
          ]
        }
      ]
    },
    {
      "cell_type": "code",
      "source": [
        "x*x"
      ],
      "metadata": {
        "colab": {
          "base_uri": "https://localhost:8080/"
        },
        "id": "-oY8BJgjMTkP",
        "outputId": "a2fd2401-0858-40ed-f429-94d4431159ac"
      },
      "execution_count": null,
      "outputs": [
        {
          "output_type": "execute_result",
          "data": {
            "text/plain": [
              "array([ 9, 25, 49, 81])"
            ]
          },
          "metadata": {},
          "execution_count": 29
        }
      ]
    },
    {
      "cell_type": "code",
      "source": [
        "x=([3.4,6.5,8.3,2.4,7.8])\n",
        "n=len(x)\n",
        "prom=np.sum(x)/n\n",
        "print(\"promedio=\", prom)\n",
        "s2=np.sum((x-prom)**2)/(n-1)\n",
        "print(\"varianza=\", s2)\n",
        "des=np.sqrt(s2)\n",
        "print(\"desviación estándar=\", des)"
      ],
      "metadata": {
        "colab": {
          "base_uri": "https://localhost:8080/"
        },
        "id": "UzwWJYq2MArf",
        "outputId": "0c1b2731-5039-411b-8813-53d20e0d8e00"
      },
      "execution_count": null,
      "outputs": [
        {
          "output_type": "stream",
          "name": "stdout",
          "text": [
            "promedio 5.680000000000001\n",
            "varianza 6.997000000000002\n",
            "desviación estándar 2.6451843035977665\n"
          ]
        }
      ]
    },
    {
      "cell_type": "code",
      "source": [
        "np.sum((x-prom)**2)"
      ],
      "metadata": {
        "colab": {
          "base_uri": "https://localhost:8080/"
        },
        "id": "sbeURvSKOSSw",
        "outputId": "48c97e93-78e7-4f64-9085-3599dc62a1f1"
      },
      "execution_count": null,
      "outputs": [
        {
          "output_type": "execute_result",
          "data": {
            "text/plain": [
              "27.988000000000007"
            ]
          },
          "metadata": {},
          "execution_count": 38
        }
      ]
    },
    {
      "cell_type": "code",
      "source": [
        "x=np.array([3.4,6.5,8.3,2.4,7.8])\n",
        "y=np.array([4.6,3.2,7.8,9.2,3.5])\n",
        "sumxy=np.sum(x*y)\n",
        "sumxy2=np.sum(x*y*y)\n",
        "print(\"sumXY=\", sumxy)\n",
        "print(\"sumXY2=\", sumxy2)"
      ],
      "metadata": {
        "colab": {
          "base_uri": "https://localhost:8080/"
        },
        "id": "moXsGqlkO_aA",
        "outputId": "9c930681-f59d-48cc-e093-4bbe8a467d29"
      },
      "execution_count": null,
      "outputs": [
        {
          "output_type": "stream",
          "name": "stdout",
          "text": [
            "sumXY= 150.56\n",
            "sumXY2= 942.1619999999999\n"
          ]
        }
      ]
    },
    {
      "cell_type": "code",
      "source": [
        "m=np.sum(x*x)/np.sum(x*y)\n",
        "print(\"mn=\", m)"
      ],
      "metadata": {
        "colab": {
          "base_uri": "https://localhost:8080/"
        },
        "id": "hNEPV15iQN4B",
        "outputId": "b2efc035-380f-4dbf-b26a-ff026e0b71c4"
      },
      "execution_count": null,
      "outputs": [
        {
          "output_type": "stream",
          "name": "stdout",
          "text": [
            "mn= 1.25730605738576\n"
          ]
        }
      ]
    },
    {
      "cell_type": "code",
      "source": [
        "x=np.array([1,2,3,4,5,6])\n",
        "print(np.cumsum(x))"
      ],
      "metadata": {
        "colab": {
          "base_uri": "https://localhost:8080/"
        },
        "id": "NwFQWyn5RdLm",
        "outputId": "b1d23ee0-4335-4c65-ea56-e26cd2a317ad"
      },
      "execution_count": null,
      "outputs": [
        {
          "output_type": "stream",
          "name": "stdout",
          "text": [
            "[ 1  3  6 10 15 21]\n"
          ]
        }
      ]
    },
    {
      "cell_type": "code",
      "source": [
        "print(np.cumprod(x))"
      ],
      "metadata": {
        "colab": {
          "base_uri": "https://localhost:8080/"
        },
        "id": "g_0pIZ4gSCnM",
        "outputId": "1a52f3a5-dfce-4a71-bfc1-8d9eea771e6a"
      },
      "execution_count": null,
      "outputs": [
        {
          "output_type": "stream",
          "name": "stdout",
          "text": [
            "[  1   2   6  24 120 720]\n"
          ]
        }
      ]
    },
    {
      "cell_type": "code",
      "source": [
        "ka=np.array([2.5E-3, 5.4E-6, 9E-9])\n",
        "print(\"ka=\", ka)\n",
        "kt=np.cumprod(ka)\n",
        "print(\"kt=\", kt)"
      ],
      "metadata": {
        "colab": {
          "base_uri": "https://localhost:8080/"
        },
        "id": "ugzyRPdMSYLy",
        "outputId": "79aefbf7-47d2-42df-b98d-f1347abfacc4"
      },
      "execution_count": null,
      "outputs": [
        {
          "output_type": "stream",
          "name": "stdout",
          "text": [
            "ka= [2.5e-03 5.4e-06 9.0e-09]\n",
            "kt= [2.500e-03 1.350e-08 1.215e-16]\n"
          ]
        }
      ]
    },
    {
      "cell_type": "code",
      "source": [
        "pKa=np.array([1.25, 4.26])\n",
        "Ka=10**(-pKa)\n",
        "print(Ka)\n",
        "Kat=np.cumprod(Ka)\n",
        "print(Kat)"
      ],
      "metadata": {
        "colab": {
          "base_uri": "https://localhost:8080/"
        },
        "id": "qoGo86VhTG--",
        "outputId": "37b761cf-1a64-414a-b476-d481b3ce5c09"
      },
      "execution_count": null,
      "outputs": [
        {
          "output_type": "stream",
          "name": "stdout",
          "text": [
            "[5.62341325e-02 5.49540874e-05]\n",
            "[5.62341325e-02 3.09029543e-06]\n"
          ]
        }
      ]
    },
    {
      "cell_type": "markdown",
      "source": [
        "Generar números aleatorios"
      ],
      "metadata": {
        "id": "EOZmuMURTwDl"
      }
    },
    {
      "cell_type": "code",
      "source": [
        "x=np.random.rand(10)\n",
        "print(x)\n",
        "print(np.sum(x))"
      ],
      "metadata": {
        "colab": {
          "base_uri": "https://localhost:8080/"
        },
        "id": "c0QG_QwqTuNt",
        "outputId": "49301cfb-44bb-4a07-8576-7aa23dd2c71d"
      },
      "execution_count": null,
      "outputs": [
        {
          "output_type": "stream",
          "name": "stdout",
          "text": [
            "[0.78594424 0.95677668 0.41051707 0.67323437 0.23342377 0.70164277\n",
            " 0.56575423 0.73810582 0.89737673 0.448043  ]\n",
            "6.4108186778412435\n"
          ]
        }
      ]
    },
    {
      "cell_type": "code",
      "source": [
        "n=np.random.randint(14,size=5)\n",
        "print(\"n=\", n)"
      ],
      "metadata": {
        "colab": {
          "base_uri": "https://localhost:8080/"
        },
        "id": "JcKZfvuhUmWy",
        "outputId": "cf79f286-018d-41d9-cf2a-cf598754aa0d"
      },
      "execution_count": null,
      "outputs": [
        {
          "output_type": "stream",
          "name": "stdout",
          "text": [
            "n= [ 3  0  5 11 11]\n"
          ]
        }
      ]
    },
    {
      "cell_type": "markdown",
      "source": [
        "int= entero"
      ],
      "metadata": {
        "id": "dVd2PyEiVcGn"
      }
    },
    {
      "cell_type": "code",
      "source": [
        "z=np.random.randint(14, size=50)\n",
        "print(\"z=\", z)"
      ],
      "metadata": {
        "colab": {
          "base_uri": "https://localhost:8080/"
        },
        "id": "pjRHj_RXVeiM",
        "outputId": "2378ec27-cd0a-43ac-b4a0-17c31ae7f9cc"
      },
      "execution_count": null,
      "outputs": [
        {
          "output_type": "stream",
          "name": "stdout",
          "text": [
            "z= [11  6  4  7  3 10  0 11 12  5  9  0  5  9  0  7  6  4 13  2  7 11 11  5\n",
            " 10  4  7  4 10 11 11  0  5  7  4 12 12 11  6  2  2  7  4  4 12  3  9 13\n",
            "  2 10]\n"
          ]
        }
      ]
    },
    {
      "cell_type": "code",
      "source": [
        "pH=5\n",
        "H=10**(-pH)\n",
        "n=np.array([2,1,0])\n",
        "a=H**n\n",
        "print(a)\n",
        "\n",
        "pKa=np.array([1.25, 4.26])\n",
        "Ka=10**(-pKa)\n",
        "Ka=np.append(1,Ka)\n",
        "Kat=np.cumprod(Ka)\n",
        "print(Kat)"
      ],
      "metadata": {
        "colab": {
          "base_uri": "https://localhost:8080/"
        },
        "id": "jggXVtanWU9P",
        "outputId": "ab10c76a-635f-489a-ff04-a9bc395c57a9"
      },
      "execution_count": 3,
      "outputs": [
        {
          "output_type": "stream",
          "name": "stdout",
          "text": [
            "[1.e-10 1.e-05 1.e+00]\n",
            "[1.00000000e+00 5.62341325e-02 3.09029543e-06]\n"
          ]
        }
      ]
    },
    {
      "cell_type": "code",
      "source": [
        "def fracCalc(pKa):\n",
        "  na=len(pKa)\n",
        "  Ka=10**(-pKa)\n",
        "  Ka=np.append(1,Ka)\n",
        "  Kat=np.cumprod(Ka)\n",
        "  n=np.arange(na,-1,-1)\n",
        "  H=10**(-pH)\n",
        "  sumTotal=np.sum(Kat*a)\n",
        "  frac=(Kat*a)/sumTotal\n",
        "  return frac"
      ],
      "metadata": {
        "id": "TcfaUaA5fHHc"
      },
      "execution_count": 5,
      "outputs": []
    },
    {
      "cell_type": "code",
      "source": [],
      "metadata": {
        "id": "YBQxkGyZlIiq"
      },
      "execution_count": null,
      "outputs": []
    },
    {
      "cell_type": "code",
      "source": [
        "pH=8.5\n",
        "H=10**(-pH)\n",
        "n=np.array([2,1,0])\n",
        "a=H**n\n",
        "print(a)\n",
        "\n",
        "pKa=np.array([3.25,7.26])\n",
        "Ka=10**(-pKa)\n",
        "Ka=np.append(1,Ka)\n",
        "Kat=np.cumprod(Ka)\n",
        "print(Kat)\n",
        "sumTotal=np.sum(Kat*a)\n",
        "print(\"sumTotal=\",sumTotal)\n",
        "frac=(Kat*a)/sumTotal\n",
        "print(frac)"
      ],
      "metadata": {
        "id": "q2DWlMdMaCuQ",
        "outputId": "2552f2c7-80dc-4e89-c9eb-98f9eb1b5ad6",
        "colab": {
          "base_uri": "https://localhost:8080/"
        }
      },
      "execution_count": null,
      "outputs": [
        {
          "output_type": "stream",
          "name": "stdout",
          "text": [
            "[1.00000000e-17 3.16227766e-09 1.00000000e+00]\n",
            "[1.00000000e+00 5.62341325e-04 3.09029543e-11]\n",
            "sumTotal= 3.268124373517484e-11\n",
            "[3.05985907e-07 5.44128438e-02 9.45586850e-01]\n"
          ]
        }
      ]
    },
    {
      "cell_type": "code",
      "source": [
        "pHs=np.arange(1,14,0.5)\n",
        "for pH in pHs:\n",
        "  H=10**(-pH)\n",
        "  n=np.array([3,2,1,0])\n",
        "  a=H**n\n",
        "  pKa=np.array([2.15,7.2,12.15])\n",
        "  Ka=10**(-pKa)\n",
        "  Ka=np.append(1,Ka)\n",
        "  Kat=np.cumprod(Ka)\n",
        "  sumTotal=np.sum(Kat*a)\n",
        "  frac=(Kat*a)/sumTotal\n",
        "  print(pH,frac)"
      ],
      "metadata": {
        "colab": {
          "base_uri": "https://localhost:8080/"
        },
        "id": "Qo41HjL0R2rm",
        "outputId": "e46132f9-a9d6-432b-9959-110c910cfa09"
      },
      "execution_count": null,
      "outputs": [
        {
          "output_type": "stream",
          "name": "stdout",
          "text": [
            "1.0 [9.33885900e-01 6.61140586e-02 4.17151508e-08 2.95320652e-19]\n",
            "1.5 [8.17078536e-01 1.82921099e-01 3.64975576e-07 8.17078536e-18]\n",
            "2.0 [5.85497147e-01 4.14500237e-01 2.61531969e-06 1.85150455e-16]\n",
            "2.5 [3.08759589e-01 6.91226619e-01 1.37917842e-05 3.08759589e-15]\n",
            "3.0 [1.23763839e-01 8.76180878e-01 5.52832760e-05 3.91375622e-14]\n",
            "3.5 [4.27502461e-02 9.57058796e-01 1.90958335e-04 4.27502461e-13]\n",
            "4.0 [1.39199678e-02 9.85458250e-01 6.21782121e-04 4.40188031e-12]\n",
            "4.5 [4.43815612e-03 9.93579392e-01 1.98245152e-03 4.43815612e-11]\n",
            "5.0 [1.40171336e-03 9.92337063e-01 6.26122358e-03 4.43260684e-10]\n",
            "5.5 [4.37753718e-04 9.80008502e-01 1.95537403e-02 4.37753718e-09]\n",
            "6.0 [1.32852553e-04 9.40524050e-01 5.93430557e-02 4.20116661e-08]\n",
            "6.5 [3.72369341e-05 8.33631116e-01 1.66331275e-01 3.72369341e-07]\n",
            "7.0 [8.66068906e-06 6.13129831e-01 3.86858770e-01 2.73875035e-06]\n",
            "7.5 [1.49127595e-06 3.33855099e-01 6.66128497e-01 1.49127595e-05]\n",
            "8.0 [1.93233021e-07 1.36798502e-01 8.63140199e-01 6.11056465e-05]\n",
            "8.5 [2.13141988e-08 4.77165474e-02 9.52070289e-01 2.13141988e-04]\n",
            "9.0 [2.20225861e-09 1.55907970e-02 9.83712786e-01 6.96415320e-04]\n",
            "9.5 [2.22260593e-10 4.97579487e-03 9.92801599e-01 2.22260593e-03]\n",
            "10.0 [2.21949069e-11 1.57127908e-03 9.91410075e-01 7.01864583e-03]\n",
            "10.5 [2.18862697e-12 4.89972547e-04 9.77623758e-01 2.18862697e-02]\n",
            "11.0 [2.09040079e-13 1.47989043e-04 9.33747734e-01 6.61042772e-02]\n",
            "11.5 [1.82913675e-14 4.09492711e-05 8.17045375e-01 1.82913675e-01]\n",
            "12.0 [1.31075611e-15 9.27944259e-06 5.85493246e-01 4.14497475e-01]\n",
            "12.5 [6.91235083e-17 1.54748259e-06 3.08763370e-01 6.91235083e-01]\n",
            "13.0 [2.77087986e-18 1.96163271e-07 1.23770657e-01 8.76229147e-01]\n",
            "13.5 [9.57241568e-20 2.14299693e-08 4.27584102e-02 9.57241568e-01]\n"
          ]
        }
      ]
    },
    {
      "cell_type": "code",
      "source": [
        "pHs"
      ],
      "metadata": {
        "colab": {
          "base_uri": "https://localhost:8080/"
        },
        "id": "UhvUtfirYwdZ",
        "outputId": "36f718a1-46aa-4c48-dd65-dad64d35542e"
      },
      "execution_count": null,
      "outputs": [
        {
          "output_type": "execute_result",
          "data": {
            "text/plain": [
              "array([ 1. ,  1.5,  2. ,  2.5,  3. ,  3.5,  4. ,  4.5,  5. ,  5.5,  6. ,\n",
              "        6.5,  7. ,  7.5,  8. ,  8.5,  9. ,  9.5, 10. , 10.5, 11. , 11.5,\n",
              "       12. , 12.5, 13. , 13.5])"
            ]
          },
          "metadata": {},
          "execution_count": 14
        }
      ]
    },
    {
      "cell_type": "markdown",
      "source": [
        "FUNCIONES"
      ],
      "metadata": {
        "id": "_1PZzJsUZK8_"
      }
    },
    {
      "cell_type": "code",
      "source": [
        "def func1(x,z):\n",
        "  y=x**2+5*z\n",
        "  return y\n"
      ],
      "metadata": {
        "id": "bTMkWKG5ZN-Q"
      },
      "execution_count": 6,
      "outputs": []
    },
    {
      "cell_type": "code",
      "source": [
        "a=func1(8,2)\n",
        "print(a)"
      ],
      "metadata": {
        "colab": {
          "base_uri": "https://localhost:8080/"
        },
        "id": "gw43lKFPZ_FH",
        "outputId": "2624d1b6-0b06-4a69-f41b-acb9ee60be2b"
      },
      "execution_count": 7,
      "outputs": [
        {
          "output_type": "stream",
          "name": "stdout",
          "text": [
            "74\n"
          ]
        }
      ]
    },
    {
      "cell_type": "code",
      "source": [
        "def fracCalc(pKa,pH):\n",
        "  na=len(pKa)\n",
        "  Ka=10**(-pKa)\n",
        "  Ka=np.append(1,Ka)\n",
        "  Kat=np.cumprod(Ka)\n",
        "  n=np.arange(na,-1,-1)\n",
        "  H=10**(-pH)\n",
        "  a=H**n\n",
        "  sumTotal=np.sum(Kat*a)\n",
        "  frac=(Kat*a)/sumTotal\n",
        "  return frac"
      ],
      "metadata": {
        "id": "eC9fO-j7as1Y"
      },
      "execution_count": 8,
      "outputs": []
    },
    {
      "cell_type": "code",
      "source": [
        "pKas=np.array([8.28,12.3,15.0])\n",
        "pHs=np.arange(1,14,0.5)\n",
        "for pH in pHs:\n",
        "    print(fracCalc(pKas,pH))"
      ],
      "metadata": {
        "colab": {
          "base_uri": "https://localhost:8080/"
        },
        "id": "0jBfLifmbJmQ",
        "outputId": "b2e46050-b38f-48aa-c481-7265127d4a2f"
      },
      "execution_count": 9,
      "outputs": [
        {
          "output_type": "stream",
          "name": "stdout",
          "text": [
            "[9.99999948e-01 5.24807433e-08 2.63026785e-19 2.63026785e-33]\n",
            "[9.99999834e-01 1.65958663e-07 2.63026756e-18 8.31763633e-32]\n",
            "[9.99999475e-01 5.24807185e-07 2.63026661e-17 2.63026661e-30]\n",
            "[9.99998340e-01 1.65958415e-06 2.63026363e-16 8.31762391e-29]\n",
            "[9.99994752e-01 5.24804706e-06 2.63025419e-15 2.63025419e-27]\n",
            "[9.99983404e-01 1.65955937e-05 2.63022434e-14 8.31749967e-26]\n",
            "[9.99947522e-01 5.24779919e-05 2.63012996e-13 2.63012996e-24]\n",
            "[9.99834069e-01 1.65931153e-04 2.62983155e-12 8.31625756e-23]\n",
            "[9.99475468e-01 5.24532182e-04 2.62888833e-11 2.62888833e-21]\n",
            "[9.98343162e-01 1.65683724e-03 2.62591007e-10 8.30385674e-20]\n",
            "[9.94779321e-01 5.22067609e-03 2.61653621e-09 2.61653621e-18]\n",
            "[9.83675032e-01 1.63249420e-02 2.58732895e-08 8.18185254e-17]\n",
            "[9.50135909e-01 4.98638413e-02 2.49911207e-07 2.49911207e-15]\n",
            "[8.57661384e-01 1.42336360e-01 2.25587929e-06 7.13371667e-14]\n",
            "[6.55809193e-01 3.44173557e-01 1.72495393e-05 1.72495393e-12]\n",
            "[3.75961060e-01 6.23940052e-01 9.88878342e-05 3.12710789e-11]\n",
            "[1.59981957e-01 8.39597247e-01 4.20795422e-04 4.20795422e-10]\n",
            "[5.67466944e-02 9.41760711e-01 1.49259014e-03 4.71998445e-09]\n",
            "[1.86068059e-02 9.76499057e-01 4.89408861e-03 4.89408861e-08]\n",
            "[5.89660740e-03 9.78593244e-01 1.55096577e-02 4.90458441e-07]\n",
            "[1.81122418e-03 9.50543962e-01 4.76400499e-02 4.76400499e-06]\n",
            "[5.19832417e-04 8.62707073e-01 1.36729857e-01 4.32377771e-05]\n",
            "[1.26871789e-04 6.65832615e-01 3.33706806e-01 3.33706806e-04]\n",
            "[2.32651604e-05 3.86105556e-01 6.11936067e-01 1.93511175e-03]\n",
            "[3.14328198e-06 1.64961783e-01 8.26767399e-01 8.26767399e-03]\n",
            "[3.47294086e-07 5.76364717e-02 9.13476517e-01 2.88866638e-02]\n"
          ]
        }
      ]
    },
    {
      "cell_type": "code",
      "source": [
        "na=3\n",
        "np.arange(na,-1,-1)"
      ],
      "metadata": {
        "colab": {
          "base_uri": "https://localhost:8080/"
        },
        "id": "EnCwBFjDcCSx",
        "outputId": "602ff08b-37ac-40fa-d943-c832429ca47d"
      },
      "execution_count": 10,
      "outputs": [
        {
          "output_type": "execute_result",
          "data": {
            "text/plain": [
              "array([3, 2, 1, 0])"
            ]
          },
          "metadata": {},
          "execution_count": 10
        }
      ]
    }
  ]
}