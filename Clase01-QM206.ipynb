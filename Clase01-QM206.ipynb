{
  "nbformat": 4,
  "nbformat_minor": 0,
  "metadata": {
    "colab": {
      "provenance": [],
      "authorship_tag": "ABX9TyNXfDq6XfHx90vHhkrQpZEI",
      "include_colab_link": true
    },
    "kernelspec": {
      "name": "python3",
      "display_name": "Python 3"
    },
    "language_info": {
      "name": "python"
    }
  },
  "cells": [
    {
      "cell_type": "markdown",
      "metadata": {
        "id": "view-in-github",
        "colab_type": "text"
      },
      "source": [
        "<a href=\"https://colab.research.google.com/github/keisycascante/QM206/blob/main/Clase01-QM206.ipynb\" target=\"_parent\"><img src=\"https://colab.research.google.com/assets/colab-badge.svg\" alt=\"Open In Colab\"/></a>"
      ]
    },
    {
      "cell_type": "code",
      "source": [
        "x=5.98\n",
        "y=7.23\n",
        "z=x+y\n",
        "print(z)"
      ],
      "metadata": {
        "colab": {
          "base_uri": "https://localhost:8080/"
        },
        "id": "FKePIuqvgtn4",
        "outputId": "c4b97966-8893-4591-dfa7-39b29f858e09"
      },
      "execution_count": 1,
      "outputs": [
        {
          "output_type": "stream",
          "name": "stdout",
          "text": [
            "13.21\n"
          ]
        }
      ]
    },
    {
      "cell_type": "code",
      "source": [
        "nombre=\"Laura\"\n",
        "apellido=\"Pitti\"\n",
        "print(nombre+\" \"+apellido)\n",
        "print(nombre*25)"
      ],
      "metadata": {
        "colab": {
          "base_uri": "https://localhost:8080/"
        },
        "id": "qntZ-2digxlY",
        "outputId": "f5cb8c71-708e-409d-cb58-c2b774d898f4"
      },
      "execution_count": 2,
      "outputs": [
        {
          "output_type": "stream",
          "name": "stdout",
          "text": [
            "Laura Pitti\n",
            "LauraLauraLauraLauraLauraLauraLauraLauraLauraLauraLauraLauraLauraLauraLauraLauraLauraLauraLauraLauraLauraLauraLauraLauraLaura\n"
          ]
        }
      ]
    },
    {
      "cell_type": "code",
      "source": [
        "a=True\n",
        "b=False\n",
        "laura_cabello=\"negro\"\n",
        "print(laura_cabello)\n",
        "print(laura_cabello==\"negro\")\n",
        "print(laura_cabello==\"rubio\")"
      ],
      "metadata": {
        "colab": {
          "base_uri": "https://localhost:8080/"
        },
        "id": "HyMGwFB6g_2_",
        "outputId": "56ad660b-c68b-48a4-b855-153be7487d8e"
      },
      "execution_count": 3,
      "outputs": [
        {
          "output_type": "stream",
          "name": "stdout",
          "text": [
            "negro\n",
            "True\n",
            "False\n"
          ]
        }
      ]
    },
    {
      "cell_type": "code",
      "source": [
        "if laura_cabello==\"negro\":\n",
        "    print(\"laura tiene cabello negro\")\n",
        "    print(\"Laura es estudiante de QM206\")\n",
        "else:\n",
        "    print(\"laura no tiene cabello negro\")"
      ],
      "metadata": {
        "colab": {
          "base_uri": "https://localhost:8080/"
        },
        "id": "LCk909FdhFfo",
        "outputId": "570ed86d-7932-4dbd-8afb-e037ea7a6241"
      },
      "execution_count": 4,
      "outputs": [
        {
          "output_type": "stream",
          "name": "stdout",
          "text": [
            "laura tiene cabello negro\n",
            "Laura es estudiante de QM206\n"
          ]
        }
      ]
    },
    {
      "cell_type": "code",
      "source": [
        "nota=78\n",
        "if nota>=90:\n",
        "    print(\"A\")\n",
        "elif nota>=80:\n",
        "    print(\"B\")\n",
        "elif nota>=70:\n",
        "    print(\"C\")\n",
        "elif nota>=60:\n",
        "    print(\"D\")\n",
        "else:\n",
        "    print(\"F\")"
      ],
      "metadata": {
        "colab": {
          "base_uri": "https://localhost:8080/"
        },
        "id": "zTEIvMrRhXSr",
        "outputId": "a791a57b-74c1-444a-c3d9-6bf33d48a0a0"
      },
      "execution_count": 5,
      "outputs": [
        {
          "output_type": "stream",
          "name": "stdout",
          "text": [
            "C\n"
          ]
        }
      ]
    },
    {
      "cell_type": "markdown",
      "source": [
        "K=(°F − 32) × 5/9 + 273.15"
      ],
      "metadata": {
        "id": "CCwbwgGphb75"
      }
    },
    {
      "cell_type": "code",
      "source": [
        "F=100\n",
        "K=(F-32)*5/9+273.15\n",
        "print(\"K=\",K)\n",
        "C=(F-32)*5/9\n",
        "print(\"°C=\",C)"
      ],
      "metadata": {
        "colab": {
          "base_uri": "https://localhost:8080/"
        },
        "id": "NrVHfo3xhZB7",
        "outputId": "05de5c15-c410-4977-eec0-9cd465455485"
      },
      "execution_count": 6,
      "outputs": [
        {
          "output_type": "stream",
          "name": "stdout",
          "text": [
            "K= 310.92777777777775\n",
            "°C= 37.77777777777778\n"
          ]
        }
      ]
    },
    {
      "cell_type": "code",
      "execution_count": null,
      "metadata": {
        "colab": {
          "base_uri": "https://localhost:8080/"
        },
        "id": "Oz3zNIeAJdtt",
        "outputId": "61e0ddd3-38ed-4a09-8617-c8fb16e633dd"
      },
      "outputs": [
        {
          "output_type": "stream",
          "name": "stdout",
          "text": [
            "['Gladys', 'Laura', 'Yarilin']\n",
            "['Gladys', 'Melissa', 'Yarilin']\n"
          ]
        }
      ],
      "source": [
        "estudiantes=[\"Gladys\", \"Laura\", \"Yarilin\"]\n",
        "print(estudiantes)\n",
        "estudiantes[1]=\"Melissa\"\n",
        "print(estudiantes)"
      ]
    },
    {
      "cell_type": "code",
      "source": [
        "v=[5,7,5,7,3,5,3]\n",
        "print(v)\n",
        "print(len(v))\n",
        "v[4]=13\n",
        "print(v+v)\n",
        "print(v*5)"
      ],
      "metadata": {
        "colab": {
          "base_uri": "https://localhost:8080/"
        },
        "id": "RzewGbLbMQFs",
        "outputId": "dabf124f-d259-44d0-d8bc-919f7ec5b968"
      },
      "execution_count": null,
      "outputs": [
        {
          "output_type": "stream",
          "name": "stdout",
          "text": [
            "[5, 7, 5, 7, 3, 5, 3]\n",
            "7\n",
            "[5, 7, 5, 7, 13, 5, 3, 5, 7, 5, 7, 13, 5, 3]\n",
            "[5, 7, 5, 7, 13, 5, 3, 5, 7, 5, 7, 13, 5, 3, 5, 7, 5, 7, 13, 5, 3, 5, 7, 5, 7, 13, 5, 3, 5, 7, 5, 7, 13, 5, 3]\n"
          ]
        }
      ]
    },
    {
      "cell_type": "markdown",
      "source": [
        "- Tuplas"
      ],
      "metadata": {
        "id": "knai8c6wNBJW"
      }
    },
    {
      "cell_type": "markdown",
      "source": [
        "* Tuplas no acepta cambiar los elementos."
      ],
      "metadata": {
        "id": "gijqi-ysNk4r"
      }
    },
    {
      "cell_type": "markdown",
      "source": [
        "Las numeraciones inician en 0 (0,1,2,3,4, ...). Para escoger que números imprimir, se escoge un número más del último que queremos."
      ],
      "metadata": {
        "id": "UI0ql3BNOCyd"
      }
    },
    {
      "cell_type": "code",
      "source": [
        "p=(2,3,4,5,6)\n",
        "print(p)\n",
        "print(p[1])\n",
        "print(p[0:3])\n"
      ],
      "metadata": {
        "colab": {
          "base_uri": "https://localhost:8080/"
        },
        "id": "AWoWqfg2NEFm",
        "outputId": "d3547bd5-abb5-42e2-cfaa-812aa3b33ca5"
      },
      "execution_count": null,
      "outputs": [
        {
          "output_type": "stream",
          "name": "stdout",
          "text": [
            "(2, 3, 4, 5, 6)\n",
            "3\n",
            "(2, 3, 4)\n"
          ]
        }
      ]
    },
    {
      "cell_type": "markdown",
      "source": [
        "Diccionarios"
      ],
      "metadata": {
        "id": "ZDYMM7pBOZ3g"
      }
    },
    {
      "cell_type": "markdown",
      "source": [
        "No se pueden escribir las palabras con tilde o con ñ.\n"
      ],
      "metadata": {
        "id": "AaEdW_LjOyZp"
      }
    },
    {
      "cell_type": "code",
      "source": [
        "dict={\"nombre\":\"Yarilin\",\"cedula\":\"4-826-1641\",\"edad\":19,\"estatura\":1.58}\n",
        "print(dict)\n",
        "print(dict[\"nombre\"])\n",
        "print(dict[\"edad\"])\n",
        "print(dict[\"estatura\"])"
      ],
      "metadata": {
        "colab": {
          "base_uri": "https://localhost:8080/"
        },
        "id": "r4PJn4zOQ6UQ",
        "outputId": "91382f05-6ab8-4deb-9431-ab97e460881d"
      },
      "execution_count": null,
      "outputs": [
        {
          "output_type": "stream",
          "name": "stdout",
          "text": [
            "{'nombre': 'Yarilin', 'cedula': '4-826-1641', 'edad': 19, 'estatura': 1.58}\n",
            "Yarilin\n",
            "19\n",
            "1.58\n"
          ]
        }
      ]
    },
    {
      "cell_type": "markdown",
      "source": [
        "Diccionario de elementos"
      ],
      "metadata": {
        "id": "OUb7IQnWTM1D"
      }
    },
    {
      "cell_type": "code",
      "source": [
        "elementos=[]\n",
        "elem={\"simbolo\":\"H\",\"NumAtom\":1,\"masa\":1.008}\n",
        "elementos.append(elem)\n",
        "elem={\"simbolo\":\"O\",\"NumAtom\":8,\"masa\":15.99}\n",
        "elementos.append(elem)\n",
        "elem={\"simbolo\":\"Na\",\"NumAtom\":11,\"masa\":22.99}\n",
        "elementos.append(elem)\n",
        "print(elementos)\n",
        "print(elementos[0])"
      ],
      "metadata": {
        "colab": {
          "base_uri": "https://localhost:8080/"
        },
        "id": "fYO-pyUsTQ2-",
        "outputId": "1eed7ec8-dc9b-4c0c-ac1d-b38117ac4aaa"
      },
      "execution_count": null,
      "outputs": [
        {
          "output_type": "stream",
          "name": "stdout",
          "text": [
            "[{'simbolo': 'H', 'NumAtom': 1, 'masa': 1.008}, {'simbolo': 'O', 'NumAtom': 8, 'masa': 15.99}, {'simbolo': 'Na', 'NumAtom': 11, 'masa': 22.99}]\n",
            "{'simbolo': 'H', 'NumAtom': 1, 'masa': 1.008}\n"
          ]
        }
      ]
    },
    {
      "cell_type": "markdown",
      "source": [
        "Taller"
      ],
      "metadata": {
        "id": "TuAqQQdFVmH6"
      }
    },
    {
      "cell_type": "code",
      "source": [
        "estudiantes=[]\n",
        "est={\"nombre\":\"Yarilin\",\"cedula\":\"4-826-1641\",\"estatura\":1.58}\n",
        "estudiantes.append(est)\n",
        "est={\"nombre\":\"Laura\",\"cedula\":\"4-826-1483\",\"estatura\":1.62}\n",
        "estudiantes.append(est)\n",
        "est={\"nombre\":\"Gladys\",\"cedula\":\"4-826-1993\",\"estatura\":1.52}\n",
        "estudiantes.append(est)\n",
        "est={\"nombre\":\"Uziel\",\"cedula\":\"4-829-315\",\"estatura\":1.74}\n",
        "estudiantes.append(est)\n",
        "est={\"nombre\":\"María\",\"cedula\":\"4-825-1562\",\"estatura\":1.64}\n",
        "estudiantes.append(est)\n",
        "print(estudiantes)\n",
        "print(estudiantes[0])\n",
        "print(estudiantes[1])\n",
        "print(estudiantes[2])\n",
        "print(estudiantes[3])\n",
        "print(estudiantes[4])"
      ],
      "metadata": {
        "colab": {
          "base_uri": "https://localhost:8080/"
        },
        "id": "_BAJfF5YVvFQ",
        "outputId": "873c8a75-93eb-4aaf-f21a-6e686e3347e4"
      },
      "execution_count": null,
      "outputs": [
        {
          "output_type": "stream",
          "name": "stdout",
          "text": [
            "[{'nombre': 'Yarilin', 'cedula': '4-826-1641', 'estatura': 1.58}, {'nombre': 'Laura', 'cedula': '4-826-1483', 'estatura': 1.62}, {'nombre': 'Gladys', 'cedula': '4-826-1993', 'estatura': 1.52}, {'nombre': 'Uziel', 'cedula': '4-829-315', 'estatura': 1.74}, {'nombre': 'María', 'cedula': '4-825-1562', 'estatura': 1.64}]\n",
            "{'nombre': 'Yarilin', 'cedula': '4-826-1641', 'estatura': 1.58}\n",
            "{'nombre': 'Laura', 'cedula': '4-826-1483', 'estatura': 1.62}\n",
            "{'nombre': 'Gladys', 'cedula': '4-826-1993', 'estatura': 1.52}\n",
            "{'nombre': 'Uziel', 'cedula': '4-829-315', 'estatura': 1.74}\n",
            "{'nombre': 'María', 'cedula': '4-825-1562', 'estatura': 1.64}\n"
          ]
        }
      ]
    }
  ]
}