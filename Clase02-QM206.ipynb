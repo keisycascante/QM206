{
  "nbformat": 4,
  "nbformat_minor": 0,
  "metadata": {
    "colab": {
      "provenance": [],
      "authorship_tag": "ABX9TyMStNzZfRxQKOdDEwYgcb1y",
      "include_colab_link": true
    },
    "kernelspec": {
      "name": "python3",
      "display_name": "Python 3"
    },
    "language_info": {
      "name": "python"
    }
  },
  "cells": [
    {
      "cell_type": "markdown",
      "metadata": {
        "id": "view-in-github",
        "colab_type": "text"
      },
      "source": [
        "<a href=\"https://colab.research.google.com/github/keisycascante/QM206/blob/main/Clase02-QM206.ipynb\" target=\"_parent\"><img src=\"https://colab.research.google.com/assets/colab-badge.svg\" alt=\"Open In Colab\"/></a>"
      ]
    },
    {
      "cell_type": "markdown",
      "source": [
        "Python Arithmetic Operators"
      ],
      "metadata": {
        "id": "VcS4oRRhPbhY"
      }
    },
    {
      "cell_type": "code",
      "execution_count": null,
      "metadata": {
        "colab": {
          "base_uri": "https://localhost:8080/"
        },
        "id": "TRNdb2kiOYJ2",
        "outputId": "a432343c-777e-44bf-f5d4-dbefc9d8caba"
      },
      "outputs": [
        {
          "output_type": "stream",
          "name": "stdout",
          "text": [
            "17\n",
            "8\n",
            "8.0\n",
            "2\n",
            "4\n",
            "95\n",
            "8\n"
          ]
        }
      ],
      "source": [
        "print(8+9)\n",
        "print(16//2)\n",
        "print(16/2)\n",
        "print(4-2)\n",
        "print(2*2)\n",
        "print(95%100)\n",
        "print(2**3)"
      ]
    },
    {
      "cell_type": "markdown",
      "source": [
        "Python Arithmetic Operators"
      ],
      "metadata": {
        "id": "3-bN_0pCPXz5"
      }
    },
    {
      "cell_type": "markdown",
      "source": [
        "Módulo=Residuo"
      ],
      "metadata": {
        "id": "U6kuhjxkQN8Q"
      }
    },
    {
      "cell_type": "code",
      "source": [
        "x=4\n",
        "x*=6\n",
        "print(x)\n",
        "x=7\n",
        "x%=5\n",
        "print(x)\n",
        "x=9\n",
        "x//=2\n",
        "print(x)\n",
        "x=5\n",
        "x**=3\n",
        "print(x)"
      ],
      "metadata": {
        "colab": {
          "base_uri": "https://localhost:8080/"
        },
        "id": "YqCdT5rQPUXE",
        "outputId": "b7a706cd-b41f-434e-bcac-32761914f5ed"
      },
      "execution_count": null,
      "outputs": [
        {
          "output_type": "stream",
          "name": "stdout",
          "text": [
            "24\n",
            "2\n",
            "4\n",
            "125\n"
          ]
        }
      ]
    },
    {
      "cell_type": "code",
      "source": [
        "x=5\n",
        "a=x**3\n",
        "print(a)\n",
        "print(x)"
      ],
      "metadata": {
        "colab": {
          "base_uri": "https://localhost:8080/"
        },
        "id": "PSoiSbmBQwIt",
        "outputId": "d672cd68-2b75-41e5-f94f-51b4faad5308"
      },
      "execution_count": null,
      "outputs": [
        {
          "output_type": "stream",
          "name": "stdout",
          "text": [
            "125\n",
            "5\n"
          ]
        }
      ]
    },
    {
      "cell_type": "code",
      "source": [
        "datos=(\"apple\",\"bananas\",\"cherry\")\n",
        "print(type(datos))\n",
        "thislist=list(datos)\n",
        "print(type(thislist))"
      ],
      "metadata": {
        "colab": {
          "base_uri": "https://localhost:8080/"
        },
        "id": "AoT8gJ-fS7u5",
        "outputId": "a0628288-faa8-443d-fffb-95f61d49a1a5"
      },
      "execution_count": null,
      "outputs": [
        {
          "output_type": "stream",
          "name": "stdout",
          "text": [
            "<class 'tuple'>\n",
            "<class 'list'>\n"
          ]
        }
      ]
    },
    {
      "cell_type": "code",
      "source": [
        "estudiantes=[\"Juan\", \"Mario\",\"Joaquín\"]\n",
        "print(estudiantes)\n",
        "estudiantes.append(\"María\")\n",
        "print(estudiantes)\n",
        "estudiantes.insert(2,\"Lara\")\n",
        "print(estudiantes)\n",
        "profesores=(\"Pedro\", \"Doris\", \"Vielka\")\n",
        "estudiantes.extend(profesores)\n",
        "print(estudiantes)\n",
        "estudiantes.remove(\"Pedro\")\n",
        "print(estudiantes)\n",
        "estudiantes.pop(1)\n",
        "print(estudiantes)"
      ],
      "metadata": {
        "colab": {
          "base_uri": "https://localhost:8080/"
        },
        "id": "WWLFoVkUTsl5",
        "outputId": "d159de7f-52ed-4e8e-fd4d-48956799d100"
      },
      "execution_count": 1,
      "outputs": [
        {
          "output_type": "stream",
          "name": "stdout",
          "text": [
            "['Juan', 'Mario', 'Joaquín']\n",
            "['Juan', 'Mario', 'Joaquín', 'María']\n",
            "['Juan', 'Mario', 'Lara', 'Joaquín', 'María']\n",
            "['Juan', 'Mario', 'Lara', 'Joaquín', 'María', 'Pedro', 'Doris', 'Vielka']\n",
            "['Juan', 'Mario', 'Lara', 'Joaquín', 'María', 'Doris', 'Vielka']\n",
            "['Juan', 'Lara', 'Joaquín', 'María', 'Doris', 'Vielka']\n"
          ]
        }
      ]
    },
    {
      "cell_type": "code",
      "source": [],
      "metadata": {
        "id": "qL1Sl8tti0Zl"
      },
      "execution_count": null,
      "outputs": []
    },
    {
      "cell_type": "code",
      "execution_count": null,
      "metadata": {
        "colab": {
          "base_uri": "https://localhost:8080/"
        },
        "id": "W2Ngzx4pNFuw",
        "outputId": "e683c411-c420-41f0-a70c-a748860078bb"
      },
      "outputs": [
        {
          "output_type": "stream",
          "name": "stdout",
          "text": [
            "['apple', 'banana', 'kiwi']\n",
            "I like apple\n",
            "I like banana\n",
            "I like kiwi\n",
            "kiwi it´s a fruit\n",
            "Se ha terminado la lista\n"
          ]
        }
      ],
      "source": [
        "thislist=[\"apple\",\"banana\",\"kiwi\"]\n",
        "print(thislist)\n",
        "for x in thislist:\n",
        "    print(\"I like\", x)\n",
        "print(x, \"it´s a fruit\")\n",
        "print(\"Se ha terminado la lista\")"
      ]
    },
    {
      "cell_type": "code",
      "source": [
        "xs=[2,3,4,5,6]\n",
        "for a in xs:\n",
        "  b=a*5\n",
        "print(b)"
      ],
      "metadata": {
        "colab": {
          "base_uri": "https://localhost:8080/"
        },
        "id": "B2JvfrWdPx98",
        "outputId": "116bcfb4-8e8f-4f00-9781-00253edb3724"
      },
      "execution_count": null,
      "outputs": [
        {
          "output_type": "stream",
          "name": "stdout",
          "text": [
            "30\n"
          ]
        }
      ]
    },
    {
      "cell_type": "code",
      "source": [
        "notas=[4.8,4.2,2.8,3.5]\n",
        "suma=0\n",
        "n=len(notas)\n",
        "for x in notas:\n",
        "  suma+=x\n",
        "print(\"suma\", suma)\n",
        "if n!=0:\n",
        "  promedio=suma/n\n",
        "  print(\"promedio\", promedio)\n",
        "else:\n",
        "  print(\"no hay notas\")\n"
      ],
      "metadata": {
        "colab": {
          "base_uri": "https://localhost:8080/"
        },
        "id": "IBBEjUsNQOE1",
        "outputId": "ff826af0-826a-4428-c58b-38d14a287dc6"
      },
      "execution_count": null,
      "outputs": [
        {
          "output_type": "stream",
          "name": "stdout",
          "text": [
            "suma 15.3\n",
            "promedio 3.825\n"
          ]
        }
      ]
    },
    {
      "cell_type": "code",
      "source": [
        "notas=[]\n",
        "suma=0\n",
        "n=len(notas)\n",
        "for x in notas:\n",
        "  suma+=x\n",
        "print(\"suma\", suma)\n",
        "if n!=0:\n",
        "  promedio=suma/n\n",
        "  print(\"promedio\", promedio)\n",
        "else:\n",
        "  print(\"no hay notas\")"
      ],
      "metadata": {
        "colab": {
          "base_uri": "https://localhost:8080/"
        },
        "id": "UaDsxv36SMDV",
        "outputId": "9df3d34f-7a03-49d5-de06-5b35a8621423"
      },
      "execution_count": null,
      "outputs": [
        {
          "output_type": "stream",
          "name": "stdout",
          "text": [
            "suma 0\n",
            "no hay notas\n"
          ]
        }
      ]
    },
    {
      "cell_type": "code",
      "source": [
        "a=1\n",
        "b=2\n",
        "c=-1\n",
        "if 4*a*c<b**2:\n",
        "  x1=(-b+(b**2-4*a*c)**0.5)/(2*a)\n",
        "  x2=(-b-(b**2-4*a*c)**0.5)/(2*a)\n",
        "  print(\"x1\", x1)\n",
        "  print(\"x2\", x2)\n",
        "else:\n",
        "  print(\"no hay raíces reales\")"
      ],
      "metadata": {
        "colab": {
          "base_uri": "https://localhost:8080/"
        },
        "id": "hCVdkqt0Sqfo",
        "outputId": "9f0793c0-7a00-4f16-b4a8-58df95430672"
      },
      "execution_count": null,
      "outputs": [
        {
          "output_type": "stream",
          "name": "stdout",
          "text": [
            "x1 0.41421356237309515\n",
            "x2 -2.414213562373095\n"
          ]
        }
      ]
    },
    {
      "cell_type": "code",
      "source": [
        "a=1\n",
        "b=2\n",
        "c=1\n",
        "if 4*a*c<b**2:\n",
        "  x1=(-b+(b**2-4*a*c)**0.5)/(2*a)\n",
        "  x2=(-b-(b**2-4*a*c)**0.5)/(2*a)\n",
        "  print(\"x1\", x1)\n",
        "  print(\"x2\", x2)\n",
        "else:\n",
        "  print(\"no hay raíces reales\")"
      ],
      "metadata": {
        "colab": {
          "base_uri": "https://localhost:8080/"
        },
        "id": "y2I9R8S8W315",
        "outputId": "dedc4051-1b9c-49ee-c897-28a554852ad3"
      },
      "execution_count": null,
      "outputs": [
        {
          "output_type": "stream",
          "name": "stdout",
          "text": [
            "no hay raíces reales\n"
          ]
        }
      ]
    },
    {
      "cell_type": "code",
      "source": [
        "thislist=[\"apple\", \"kiwi\", \"cherry\"]\n",
        "mylist=thislist.copy()\n",
        "mylist[0]=\"orange\"\n",
        "print(thislist)\n",
        "print(mylist)"
      ],
      "metadata": {
        "colab": {
          "base_uri": "https://localhost:8080/"
        },
        "id": "s0H1dMj-W6E2",
        "outputId": "187e21c2-841d-4300-9891-21991a0a8011"
      },
      "execution_count": null,
      "outputs": [
        {
          "output_type": "stream",
          "name": "stdout",
          "text": [
            "['apple', 'kiwi', 'cherry']\n",
            "['orange', 'kiwi', 'cherry']\n"
          ]
        }
      ]
    },
    {
      "cell_type": "code",
      "source": [
        "list1=[\"a\", \"b\", \"c\"]\n",
        "list2=[]"
      ],
      "metadata": {
        "id": "nRsNuoW6YCSV"
      },
      "execution_count": null,
      "outputs": []
    },
    {
      "cell_type": "code",
      "source": [
        "fruits=[\"cherry\", \"banana\", \"apple\", \"cherry\"]\n",
        "\n",
        "x=fruits.count(\"cherry\")\n",
        "print(x)\n",
        "n=fruits.index(\"cherry\")\n",
        "print(n)"
      ],
      "metadata": {
        "colab": {
          "base_uri": "https://localhost:8080/"
        },
        "id": "j1frnd1OY71B",
        "outputId": "5b75b933-605c-4207-dc2d-331eb8e62455"
      },
      "execution_count": null,
      "outputs": [
        {
          "output_type": "stream",
          "name": "stdout",
          "text": [
            "2\n",
            "0\n"
          ]
        }
      ]
    },
    {
      "cell_type": "code",
      "source": [
        "import numpy as np\n",
        "\n",
        "x=8.7\n",
        "s=np.sqrt(x)\n",
        "print(s)\n",
        "v=np.exp(x)\n",
        "print(v)"
      ],
      "metadata": {
        "colab": {
          "base_uri": "https://localhost:8080/"
        },
        "id": "tLywZ347ZrBo",
        "outputId": "9679c9fc-2fbf-42e3-bf4c-8508b81e9e12"
      },
      "execution_count": 4,
      "outputs": [
        {
          "output_type": "stream",
          "name": "stdout",
          "text": [
            "2.949576240750525\n",
            "6002.912217261018\n"
          ]
        }
      ]
    },
    {
      "cell_type": "code",
      "source": [
        "x=np.array([3.4,6.7,8.9,2.6])\n",
        "for a in x:\n",
        "  print(a,np.exp(a))"
      ],
      "metadata": {
        "colab": {
          "base_uri": "https://localhost:8080/"
        },
        "id": "3eIHOjj6bFra",
        "outputId": "69747a36-3da8-4bde-c2f7-72ef06263082"
      },
      "execution_count": null,
      "outputs": [
        {
          "output_type": "stream",
          "name": "stdout",
          "text": [
            "3.4 29.96410004739701\n",
            "6.7 812.4058251675433\n",
            "8.9 7331.973539155995\n",
            "2.6 13.463738035001692\n"
          ]
        }
      ]
    },
    {
      "cell_type": "code",
      "source": [
        "x=np.zeros(10)\n",
        "print(x)\n",
        "x[3]=5\n",
        "print(x)\n",
        "x=np.ones(20)\n",
        "print(x)\n",
        "x[5]=6\n",
        "print(x)\n",
        "print(np.log(x))\n",
        "print(np.log10(x))"
      ],
      "metadata": {
        "colab": {
          "base_uri": "https://localhost:8080/"
        },
        "id": "ZjYNug31cPNv",
        "outputId": "e417f9b3-399d-4b44-ca2c-c9088de6ec32"
      },
      "execution_count": null,
      "outputs": [
        {
          "output_type": "stream",
          "name": "stdout",
          "text": [
            "[0. 0. 0. 0. 0. 0. 0. 0. 0. 0.]\n",
            "[0. 0. 0. 5. 0. 0. 0. 0. 0. 0.]\n",
            "[1. 1. 1. 1. 1. 1. 1. 1. 1. 1. 1. 1. 1. 1. 1. 1. 1. 1. 1. 1.]\n",
            "[1. 1. 1. 1. 1. 6. 1. 1. 1. 1. 1. 1. 1. 1. 1. 1. 1. 1. 1. 1.]\n",
            "[0.         0.         0.         0.         0.         1.79175947\n",
            " 0.         0.         0.         0.         0.         0.\n",
            " 0.         0.         0.         0.         0.         0.\n",
            " 0.         0.        ]\n",
            "[0.         0.         0.         0.         0.         0.77815125\n",
            " 0.         0.         0.         0.         0.         0.\n",
            " 0.         0.         0.         0.         0.         0.\n",
            " 0.         0.        ]\n"
          ]
        }
      ]
    },
    {
      "cell_type": "code",
      "source": [
        "x=np.array([0.0,3.4,6.7,8.9,2.6,-3.5])\n",
        "for a in x:\n",
        "  print(a,np.exp(a))"
      ],
      "metadata": {
        "colab": {
          "base_uri": "https://localhost:8080/"
        },
        "id": "ixDoMJ4JbEP2",
        "outputId": "c1a610e7-c208-4f35-8f45-7dc97b4ec196"
      },
      "execution_count": 5,
      "outputs": [
        {
          "output_type": "stream",
          "name": "stdout",
          "text": [
            "0.0 1.0\n",
            "3.4 29.96410004739701\n",
            "6.7 812.4058251675433\n",
            "8.9 7331.973539155995\n",
            "2.6 13.463738035001692\n",
            "-3.5 0.0301973834223185\n"
          ]
        }
      ]
    },
    {
      "cell_type": "code",
      "source": [
        "x=np.zeros(10)\n",
        "print(x)\n",
        "x[3]=5\n",
        "print(x)"
      ],
      "metadata": {
        "colab": {
          "base_uri": "https://localhost:8080/"
        },
        "id": "xouZDZGccC1X",
        "outputId": "4aa6d815-4736-4dc0-9e4c-8c15d3d6b805"
      },
      "execution_count": null,
      "outputs": [
        {
          "output_type": "stream",
          "name": "stdout",
          "text": [
            "[0. 0. 0. 0. 0. 0. 0. 0. 0. 0.]\n",
            "[0. 0. 0. 5. 0. 0. 0. 0. 0. 0.]\n"
          ]
        }
      ]
    },
    {
      "cell_type": "code",
      "source": [
        "v=np.ones(200)\n",
        "v=v+3\n",
        "print(v*v)"
      ],
      "metadata": {
        "colab": {
          "base_uri": "https://localhost:8080/"
        },
        "id": "p-oEd7RDck4X",
        "outputId": "073ccfee-b1a6-4f6c-dc95-95a6e8b776db"
      },
      "execution_count": null,
      "outputs": [
        {
          "output_type": "stream",
          "name": "stdout",
          "text": [
            "[16. 16. 16. 16. 16. 16. 16. 16. 16. 16. 16. 16. 16. 16. 16. 16. 16. 16.\n",
            " 16. 16. 16. 16. 16. 16. 16. 16. 16. 16. 16. 16. 16. 16. 16. 16. 16. 16.\n",
            " 16. 16. 16. 16. 16. 16. 16. 16. 16. 16. 16. 16. 16. 16. 16. 16. 16. 16.\n",
            " 16. 16. 16. 16. 16. 16. 16. 16. 16. 16. 16. 16. 16. 16. 16. 16. 16. 16.\n",
            " 16. 16. 16. 16. 16. 16. 16. 16. 16. 16. 16. 16. 16. 16. 16. 16. 16. 16.\n",
            " 16. 16. 16. 16. 16. 16. 16. 16. 16. 16. 16. 16. 16. 16. 16. 16. 16. 16.\n",
            " 16. 16. 16. 16. 16. 16. 16. 16. 16. 16. 16. 16. 16. 16. 16. 16. 16. 16.\n",
            " 16. 16. 16. 16. 16. 16. 16. 16. 16. 16. 16. 16. 16. 16. 16. 16. 16. 16.\n",
            " 16. 16. 16. 16. 16. 16. 16. 16. 16. 16. 16. 16. 16. 16. 16. 16. 16. 16.\n",
            " 16. 16. 16. 16. 16. 16. 16. 16. 16. 16. 16. 16. 16. 16. 16. 16. 16. 16.\n",
            " 16. 16. 16. 16. 16. 16. 16. 16. 16. 16. 16. 16. 16. 16. 16. 16. 16. 16.\n",
            " 16. 16.]\n"
          ]
        }
      ]
    },
    {
      "cell_type": "code",
      "source": [
        "x=np.linspace(1, 5,5)\n",
        "y=3.0*np.exp(-x/5)\n",
        "\n",
        "\n",
        "print(np.sum(x))\n",
        "print(np.mean(x))\n",
        "print(np.log(x))\n",
        "print(np.log10(x))"
      ],
      "metadata": {
        "colab": {
          "base_uri": "https://localhost:8080/"
        },
        "id": "7gPLQd1JdoOt",
        "outputId": "5eb48224-ce14-4dae-c3f6-7b67d9f823a3"
      },
      "execution_count": 6,
      "outputs": [
        {
          "output_type": "stream",
          "name": "stdout",
          "text": [
            "15.0\n",
            "3.0\n",
            "[0.         0.69314718 1.09861229 1.38629436 1.60943791]\n",
            "[0.         0.30103    0.47712125 0.60205999 0.69897   ]\n"
          ]
        }
      ]
    },
    {
      "cell_type": "code",
      "source": [
        "cH=np.array([1.5E-4,6.7E-7,8.9E-2])\n",
        "pH=-np.log10(cH)\n",
        "print(pH)"
      ],
      "metadata": {
        "colab": {
          "base_uri": "https://localhost:8080/"
        },
        "id": "GomjeMkRjFb9",
        "outputId": "a5d30ce0-42a7-4b5a-a0e7-5d2d68ffb5af"
      },
      "execution_count": 7,
      "outputs": [
        {
          "output_type": "stream",
          "name": "stdout",
          "text": [
            "[3.82390874 6.1739252  1.05060999]\n"
          ]
        }
      ]
    }
  ]
}