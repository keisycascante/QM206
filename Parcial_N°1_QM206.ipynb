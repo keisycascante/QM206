{
  "nbformat": 4,
  "nbformat_minor": 0,
  "metadata": {
    "colab": {
      "provenance": [],
      "authorship_tag": "ABX9TyP9ypQQ8lI3g0+odChgkjks",
      "include_colab_link": true
    },
    "kernelspec": {
      "name": "python3",
      "display_name": "Python 3"
    },
    "language_info": {
      "name": "python"
    }
  },
  "cells": [
    {
      "cell_type": "markdown",
      "metadata": {
        "id": "view-in-github",
        "colab_type": "text"
      },
      "source": [
        "<a href=\"https://colab.research.google.com/github/keisycascante/QM206/blob/main/Parcial_N%C2%B01_QM206.ipynb\" target=\"_parent\"><img src=\"https://colab.research.google.com/assets/colab-badge.svg\" alt=\"Open In Colab\"/></a>"
      ]
    },
    {
      "cell_type": "markdown",
      "source": [
        "Parcial 1 - QM 206\n",
        "Keisy Cascante"
      ],
      "metadata": {
        "id": "DZN5Rv7Mlf7i"
      }
    },
    {
      "cell_type": "markdown",
      "source": [
        "1. Función para calcular molaridad\n"
      ],
      "metadata": {
        "id": "5P8itEL6prbo"
      }
    },
    {
      "cell_type": "markdown",
      "source": [
        "Ejemplo: Molaridad de NaCl"
      ],
      "metadata": {
        "id": "AZLBEfZAxdPO"
      }
    },
    {
      "cell_type": "code",
      "source": [
        "import numpy as np\n",
        "\n",
        "def calculate_molarity(grams=None, moles=None, volume=None, volume_unit=\"L\", molecular_weight=None):\n",
        "    \"\"\"\n",
        "    Calculate the molarity of a solution.\n",
        "\n",
        "    Parameters:\n",
        "    grams (float): The mass of the solute in grams. Either 'grams' or 'moles' must be provided.\n",
        "    moles (float): The number of moles of solute. Either 'grams' or 'moles' must be provided.\n",
        "    volume (float): The volume of the solution.\n",
        "    volume_unit (str): The unit of volume, either \"L\" for liters or \"mL\" for milliliters. Default is \"L\".\n",
        "    molecular_weight (float): The molecular weight of the solute (required if 'grams' is provided).\n",
        "\n",
        "    Returns:\n",
        "    float: Molarity of the solution.\n",
        "    \"\"\"\n",
        "\n",
        "    if grams is None and moles is None:\n",
        "        raise ValueError(\"Either 'grams' or 'moles' must be provided.\")\n",
        "    if grams is not None and (molecular_weight is None):\n",
        "        raise ValueError(\"Molecular weight must be provided when grams are given.\")\n",
        "    if volume is None or volume <= 0:\n",
        "        raise ValueError(\"Volume must be provided and greater than zero.\")\n",
        "\n",
        "\n",
        "    if grams is not None:\n",
        "        moles = np.divide(grams, molecular_weight)\n",
        "\n",
        "\n",
        "    if volume_unit == \"mL\":\n",
        "        volume = np.divide(volume, 1000)\n",
        "    elif volume_unit != \"L\":\n",
        "        raise ValueError(\"Invalid volume unit. Use 'L' for liters or 'mL' for milliliters.\")\n",
        "\n",
        "\n",
        "    molarity = np.divide(moles, volume)\n",
        "    return molarity"
      ],
      "metadata": {
        "id": "q7E33DyP-HO5"
      },
      "execution_count": null,
      "outputs": []
    },
    {
      "cell_type": "markdown",
      "source": [
        "Ejemplo 1:\n",
        "¿Cuál es la molaridad de una solución que contiene 5.5 g de HCl (masa molar = 36.5 g/mol) disueltos en suficiente agua para formar 250 mL de solución?"
      ],
      "metadata": {
        "id": "McN_de-sUSA1"
      }
    },
    {
      "cell_type": "code",
      "source": [
        "grams_of_solute = 5.5\n",
        "molecular_weight = 36.5\n",
        "volume_of_solution = 250\n",
        "\n",
        "molarity = calculate_molarity(grams=grams_of_solute, volume=volume_of_solution, volume_unit=\"mL\", molecular_weight=molecular_weight)\n",
        "print(\"Molarity of the solution:\", molarity, \"M\")\n",
        "\n"
      ],
      "metadata": {
        "colab": {
          "base_uri": "https://localhost:8080/"
        },
        "id": "3LPfNz73viR4",
        "outputId": "20261f98-6200-4ca6-a9c4-d634033271ee"
      },
      "execution_count": null,
      "outputs": [
        {
          "output_type": "stream",
          "name": "stdout",
          "text": [
            "Molarity of the solution: 0.6027397260273972 M\n"
          ]
        }
      ]
    },
    {
      "cell_type": "markdown",
      "source": [
        "2. Función para calcular el pH de una solución de ácido fuerte"
      ],
      "metadata": {
        "id": "tMGRuqlRAsMG"
      }
    },
    {
      "cell_type": "code",
      "source": [
        "import numpy as np\n",
        "\n",
        "def calculate_ph(H):\n",
        "    \"\"\"\n",
        "    Calculate the pH of a strong acid solution.\n",
        "\n",
        "    Parameters:\n",
        "    H (float): The concentration of hydrogen ions [H+] in mol/L.\n",
        "\n",
        "    Returns:\n",
        "    float: pH of the solution.\n",
        "    \"\"\"\n",
        "    if H <= 0:\n",
        "        raise ValueError(\"The hydrogen ion concentration must be greater than zero.\")\n",
        "\n",
        "    # Calculate pH\n",
        "    pH = -np.log10(H)\n",
        "    return pH"
      ],
      "metadata": {
        "id": "rVIOQVhUGNQ2"
      },
      "execution_count": null,
      "outputs": []
    },
    {
      "cell_type": "markdown",
      "source": [
        "Ejemplo 2:\n",
        "Calcular el pH de una solución de HCl 0.001 M"
      ],
      "metadata": {
        "id": "3fm1_TrjHEp1"
      }
    },
    {
      "cell_type": "code",
      "source": [
        "H = 0.001\n",
        "pH = calculate_ph(H)\n",
        "print(\"pH of the solution:\", pH)\n"
      ],
      "metadata": {
        "colab": {
          "base_uri": "https://localhost:8080/"
        },
        "id": "3Z-GPvlfHJtX",
        "outputId": "69ca5b22-a372-4daa-e7c7-f8fb68a49b10"
      },
      "execution_count": null,
      "outputs": [
        {
          "output_type": "stream",
          "name": "stdout",
          "text": [
            "pH of the solution: 3.0\n"
          ]
        }
      ]
    },
    {
      "cell_type": "markdown",
      "source": [
        "3. Función para calcular la masa molar de un gas ideal"
      ],
      "metadata": {
        "id": "ZjLnrjT9XPIH"
      }
    },
    {
      "cell_type": "code",
      "source": [
        "import numpy as np\n",
        "\n",
        "def calculate_molar_mass(mass, pressure, volume, temperature_C):\n",
        "    \"\"\"\n",
        "    Calculate the molar mass of an ideal gas.\n",
        "\n",
        "    Parameters:\n",
        "    mass (float): Mass of the gas in grams.\n",
        "    pressure (float): Pressure of the gas in atm.\n",
        "    volume (float): Volume of the gas in liters.\n",
        "    temperature_C (float): Temperature in degrees Celsius.\n",
        "\n",
        "    Returns:\n",
        "    float: Molar mass of the gas in g/mol.\n",
        "    \"\"\"\n",
        "\n",
        "    temperature_K = temperature_C + 273.15\n",
        "    R = 0.0821\n",
        "\n",
        "    return np.divide(mass * R * temperature_K, pressure * volume)\n",
        "\n"
      ],
      "metadata": {
        "id": "dC_5EODLZ3KS"
      },
      "execution_count": null,
      "outputs": []
    },
    {
      "cell_type": "markdown",
      "source": [
        "Ejemplo 3: Una masa de hidrógeno gaseoso ocupa un volumen de 230 mL en un tanque a una presión de 1 atm y a una temperatura de 35°C."
      ],
      "metadata": {
        "id": "ktYDBNqDXyWh"
      }
    },
    {
      "cell_type": "code",
      "source": [
        "mass = 1\n",
        "pressure = 1.0\n",
        "volume = 230\n",
        "temperature_C = 35\n",
        "\n",
        "molar_mass = calculate_molar_mass(mass, pressure, volume, temperature_C)\n",
        "\n",
        "print(f\"The molar mass of the gas is: {molar_mass:.2f} g/mol\")\n"
      ],
      "metadata": {
        "colab": {
          "base_uri": "https://localhost:8080/"
        },
        "id": "C04SBOxYdzu8",
        "outputId": "6474782a-4d3b-4504-ed63-3397a68e736f"
      },
      "execution_count": null,
      "outputs": [
        {
          "output_type": "stream",
          "name": "stdout",
          "text": [
            "The molar mass of the gas is: 0.11 g/mol\n"
          ]
        }
      ]
    },
    {
      "cell_type": "markdown",
      "source": [
        "4. Función para calcular las concentraciones del ácido y base conjugada para la preparación de un buffer"
      ],
      "metadata": {
        "id": "LtH0D6LDd4Ia"
      }
    },
    {
      "cell_type": "code",
      "source": [
        "import numpy as np\n",
        "\n",
        "def calculate_buffer_concentrations(desired_ph, pKa, volume_mL, total_concentration):\n",
        "    \"\"\"\n",
        "    Calculate the concentrations of the conjugate base and weak acid for a buffer solution.\n",
        "\n",
        "    Parameters:\n",
        "    desired_ph (float): The desired pH of the buffer.\n",
        "    pKa (float): The pKa of the weak acid.\n",
        "    volume_mL (float): The volume of the solution in mL.\n",
        "    total_concentration (float): Total concentration of the buffer (sum of acid and base) in mol/L.\n",
        "\n",
        "    Returns:\n",
        "    tuple: Required concentrations (mol/L) of conjugate base [A-] and weak acid [HA].\n",
        "    \"\"\"\n",
        "\n",
        "    ratio = 10 ** (desired_ph - pKa)\n",
        "\n",
        "\n",
        "    ha_concentration = total_concentration / (1 + ratio)\n",
        "    a_concentration = total_concentration - ha_concentration\n",
        "\n",
        "\n",
        "    volume_L = volume_mL / 1000\n",
        "\n",
        "\n",
        "    ha_moles = ha_concentration * volume_L\n",
        "    a_moles = a_concentration * volume_L\n",
        "\n",
        "    return ha_concentration, a_concentration, ha_moles, a_moles\n"
      ],
      "metadata": {
        "id": "qtuhzySSelKu"
      },
      "execution_count": null,
      "outputs": []
    },
    {
      "cell_type": "markdown",
      "source": [
        "Ejemplo 4: Calcular las concentraciones de NH4OH Y NH4Cl para la preparacrión de un buffer a pH 10, con un pKa de 9.25 en 500 mL."
      ],
      "metadata": {
        "id": "4XSWLeVWaU5N"
      }
    },
    {
      "cell_type": "code",
      "source": [
        "desired_ph = 10\n",
        "pKa = 9.25\n",
        "volume_mL = 500\n",
        "total_concentration = 0.1\n",
        "\n",
        "ha_concentration, a_concentration, ha_moles, a_moles = calculate_buffer_concentrations(\n",
        "    desired_ph, pKa, volume_mL, total_concentration\n",
        ")\n",
        "\n",
        "print(\"Weak acid [HA] concentration:\", ha_concentration, \"M\")\n",
        "print(\"Conjugate base [A-] concentration:\", a_concentration, \"M\")"
      ],
      "metadata": {
        "colab": {
          "base_uri": "https://localhost:8080/"
        },
        "id": "EtGGF_A6fctg",
        "outputId": "03c40789-6b2d-40ec-ca09-9ecf1764b3b8"
      },
      "execution_count": null,
      "outputs": [
        {
          "output_type": "stream",
          "name": "stdout",
          "text": [
            "Weak acid [HA] concentration: 0.01509795572113233 M\n",
            "Conjugate base [A-] concentration: 0.08490204427886767 M\n"
          ]
        }
      ]
    },
    {
      "cell_type": "markdown",
      "source": [
        "5. Función para calcular la energía liberada de una reacción química"
      ],
      "metadata": {
        "id": "0DLnEsDMeseW"
      }
    },
    {
      "cell_type": "code",
      "source": [
        "def calculate_reaction_energy(moles, delta_h):\n",
        "    \"\"\"\n",
        "    Calculate the energy released or absorbed in a chemical reaction.\n",
        "\n",
        "    Parameters:\n",
        "    moles (float): The number of moles of the reagent.\n",
        "    delta_h (float): The enthalpy change of formation (ΔH) in kJ/mol.\n",
        "\n",
        "    Returns:\n",
        "    float: The energy released or absorbed in kJ.\n",
        "    \"\"\"\n",
        "\n",
        "    energy = moles * delta_h\n",
        "    return energy"
      ],
      "metadata": {
        "id": "cKLRJK1yevkQ"
      },
      "execution_count": null,
      "outputs": []
    },
    {
      "cell_type": "markdown",
      "source": [
        "Ejemplo 5: El cambio de entalpía de formación (Δ𝐻) para H2O es −285,8 kJ/mol. Calcule la energía liberada cuando se forman 5 moles de agua."
      ],
      "metadata": {
        "id": "IeN9c4Mybnsp"
      }
    },
    {
      "cell_type": "code",
      "source": [
        "moles_of_reagent = 5\n",
        "delta_h_of_formation = -285.8\n",
        "\n",
        "energy_released = calculate_reaction_energy(moles_of_reagent, delta_h_of_formation)\n",
        "print(\"Energy released in the reaction:\", energy_released, \"kJ\")\n"
      ],
      "metadata": {
        "colab": {
          "base_uri": "https://localhost:8080/"
        },
        "id": "xy9XcX4RdQ9v",
        "outputId": "5d22729d-76f0-404a-9885-26146a29b90f"
      },
      "execution_count": null,
      "outputs": [
        {
          "output_type": "stream",
          "name": "stdout",
          "text": [
            "Energy released in the reaction: -1429.0 kJ\n"
          ]
        }
      ]
    },
    {
      "cell_type": "markdown",
      "source": [
        "6. Función para calcular el rendimiento porcentual."
      ],
      "metadata": {
        "id": "-qaYgEECgkDX"
      }
    },
    {
      "cell_type": "code",
      "source": [
        "def calculate_percentage_yield(actual_yield, theoretical_yield):\n",
        "    \"\"\"\n",
        "    Calculate the percentage yield of a reaction.\n",
        "\n",
        "    Parameters:\n",
        "    actual_yield (float): The actual yield of the product in grams.\n",
        "    theoretical_yield (float): The theoretical yield of the product in grams.\n",
        "\n",
        "    Returns:\n",
        "    float: The percentage yield of the reaction.\n",
        "    \"\"\"\n",
        "    if theoretical_yield == 0:\n",
        "        raise ValueError(\"Theoretical yield must be greater than zero.\")\n",
        "\n",
        "    percentage_yield = (actual_yield / theoretical_yield) * 100\n",
        "    return percentage_yield"
      ],
      "metadata": {
        "id": "lAS1Y4y9glFb"
      },
      "execution_count": null,
      "outputs": []
    },
    {
      "cell_type": "markdown",
      "source": [
        "Ejemplo 6: Calcular el rendimiento porcentual de la grasa de patacones obtenida mediante la extracción Soxhlet; teniendo como masa teórica 25.4 g y masa experimental 4.3g."
      ],
      "metadata": {
        "id": "9zKM6w6AjD2V"
      }
    },
    {
      "cell_type": "code",
      "source": [
        "actual_yield = 4.3\n",
        "theoretical_yield = 25.4\n",
        "\n",
        "yield_percentage = calculate_percentage_yield(actual_yield, theoretical_yield)\n",
        "\n",
        "print(f\"Percentage yield: {yield_percentage:.2f}%\")"
      ],
      "metadata": {
        "colab": {
          "base_uri": "https://localhost:8080/"
        },
        "id": "3YfJoe6jPCY_",
        "outputId": "f72f587f-18b8-41e5-da5a-6c9b7e8eabf7"
      },
      "execution_count": null,
      "outputs": [
        {
          "output_type": "stream",
          "name": "stdout",
          "text": [
            "Percentage yield: 16.93%\n"
          ]
        }
      ]
    },
    {
      "cell_type": "markdown",
      "source": [
        "7. Función para calcular el calor específico de un metal"
      ],
      "metadata": {
        "id": "6__u76vnRaCG"
      }
    },
    {
      "cell_type": "code",
      "source": [
        "def calculate_specific_heat(heat_energy, mass, initial_temp, final_temp):\n",
        "    \"\"\"\n",
        "    Calculate the specific heat of a substance.\n",
        "\n",
        "    Parameters:\n",
        "    heat_energy (float): The amount of heat energy absorbed or released in calories.\n",
        "    mass (float): The mass of the substance in grams.\n",
        "    initial_temp (float): The initial temperature in degrees Celsius.\n",
        "    final_temp (float): The final temperature in degrees Celsius.\n",
        "\n",
        "    Returns:\n",
        "    float: Specific heat capacity in cal/g°C.\n",
        "    \"\"\"\n",
        "\n",
        "    delta_t = final_temp - initial_temp\n",
        "\n",
        "\n",
        "    specific_heat = heat_energy / (mass * delta_t)\n",
        "    return specific_heat"
      ],
      "metadata": {
        "id": "09-L9qqeRazy"
      },
      "execution_count": null,
      "outputs": []
    },
    {
      "cell_type": "markdown",
      "source": [
        "Ejemplo 7: Determine el calor específico de una pieza de 720.325 gramos que requiere 2300 calorias para elevar su temperatura de 37°C a 140°C."
      ],
      "metadata": {
        "id": "S5P_UBbgeOTB"
      }
    },
    {
      "cell_type": "code",
      "source": [
        "heat_energy = 2300\n",
        "mass = 720.325\n",
        "initial_temp = 37\n",
        "final_temp = 140\n",
        "\n",
        "specific_heat = calculate_specific_heat(heat_energy, mass, initial_temp, final_temp)\n",
        "print(\"Specific heat of the substance:\", specific_heat, \"cal/g°C\")"
      ],
      "metadata": {
        "colab": {
          "base_uri": "https://localhost:8080/"
        },
        "id": "Uzsfttw-SHXi",
        "outputId": "ee5c0fab-9d1f-49bf-e701-ba03d9158c1e"
      },
      "execution_count": null,
      "outputs": [
        {
          "output_type": "stream",
          "name": "stdout",
          "text": [
            "Specific heat of the substance: 0.031000030663073806 cal/g°C\n"
          ]
        }
      ]
    },
    {
      "cell_type": "markdown",
      "source": [
        "8. Función para calcular la presión osmótica a 25°C"
      ],
      "metadata": {
        "id": "Cf9EqWyrZ2p6"
      }
    },
    {
      "cell_type": "code",
      "source": [
        "def calculate_osmotic_pressure(concentration_gL, molecular_weight, temperature_C=25):\n",
        "\n",
        "    # Calculate molarity from concentration in g/L and molecular weight\n",
        "    molarity = concentration_gL / molecular_weight\n",
        "\n",
        "    # Convert temperature to Kelvin\n",
        "    temperature_K = temperature_C + 273.15\n",
        "    R = 0.0821  # Ideal gas constant in L atm / (K mol)\n",
        "\n",
        "    # Calculate osmotic pressure\n",
        "    osmotic_pressure = molarity * R * temperature_K\n",
        "    return osmotic_pressure"
      ],
      "metadata": {
        "id": "ZG-Udr8iZ34g"
      },
      "execution_count": null,
      "outputs": []
    },
    {
      "cell_type": "markdown",
      "source": [
        "Ejemplo 8: Calcular la presión osmótica del cloruro de sodio (NaCl) con: Concentración: 58,5 g/L, Peso molecular: 58,44 g/mol, Temperatura: 25 °C."
      ],
      "metadata": {
        "id": "slaWCch9a74i"
      }
    },
    {
      "cell_type": "code",
      "source": [
        "concentration_gL = 58.5\n",
        "molecular_weight = 58.44\n",
        "\n",
        "osmotic_pressure = calculate_osmotic_pressure(concentration_gL, molecular_weight)\n",
        "\n",
        "print(f\"Osmotic pressure: {osmotic_pressure:.2f} atm\")\n",
        "\n"
      ],
      "metadata": {
        "colab": {
          "base_uri": "https://localhost:8080/"
        },
        "id": "Z6oNODVNaMiu",
        "outputId": "44c18562-b978-4c9d-d994-b06a3cc25ae2"
      },
      "execution_count": null,
      "outputs": [
        {
          "output_type": "stream",
          "name": "stdout",
          "text": [
            "Osmotic pressure: 24.50 atm\n"
          ]
        }
      ]
    },
    {
      "cell_type": "markdown",
      "source": [
        "9. Función para calcular el producto de solubilidad de una sal insoluble"
      ],
      "metadata": {
        "id": "TZHZiGBebJfB"
      }
    },
    {
      "cell_type": "code",
      "source": [
        "def calculate_ksp(solubility, m, n):\n",
        "    \"\"\"\n",
        "    Calculate the Ksp of an insoluble salt.\n",
        "\n",
        "    Parameters:\n",
        "    solubility (float): The molar solubility of the salt in mol/L.\n",
        "    m (int): The stoichiometric coefficient of the cation.\n",
        "    n (int): The stoichiometric coefficient of the anion.\n",
        "\n",
        "    Returns:\n",
        "    float: The Ksp value.\n",
        "    \"\"\"\n",
        "\n",
        "    a_concentration = m * solubility\n",
        "    b_concentration = n * solubility\n",
        "\n",
        "\n",
        "    ksp = (a_concentration ** m) * (b_concentration ** n)\n",
        "    return ksp"
      ],
      "metadata": {
        "id": "w7B1dK8IbL6V"
      },
      "execution_count": null,
      "outputs": []
    },
    {
      "cell_type": "markdown",
      "source": [
        "\n",
        "$$ CaCO\n",
        "3\n",
        "​\n",
        " ↔Ca\n",
        "2+\n",
        " +CO\n",
        "3\n",
        "2−\n",
        "​\n",
        " $$\n",
        "Si la solubilidad (𝑠) de CaCO3 es 𝑠 = 5,0 × 1 0 − 6. Calcular Kps"
      ],
      "metadata": {
        "id": "rVtm37d-hqnr"
      }
    },
    {
      "cell_type": "code",
      "source": [
        "solubility = 5.0e-6\n",
        "m = 1\n",
        "n = 1\n",
        "\n",
        "ksp = calculate_ksp(solubility, m, n)\n",
        "print(\"Ksp of CaCO3:\", ksp)"
      ],
      "metadata": {
        "colab": {
          "base_uri": "https://localhost:8080/"
        },
        "id": "77DRbcUPiH3h",
        "outputId": "cca56a9f-39f4-4c8d-dafd-911e39cd6e67"
      },
      "execution_count": null,
      "outputs": [
        {
          "output_type": "stream",
          "name": "stdout",
          "text": [
            "Ksp of CaCO3: 2.5000000000000004e-11\n"
          ]
        }
      ]
    },
    {
      "cell_type": "markdown",
      "source": [
        "10. Función para calcular el punto de equivalencia de una reacción de neutralización"
      ],
      "metadata": {
        "id": "WLEsu267iOAm"
      }
    },
    {
      "cell_type": "code",
      "source": [
        "import numpy as np\n",
        "import pandas as pd\n",
        "import matplotlib.pyplot as plt\n",
        "\n",
        "def titration_curve(strong_acid_conc, strong_base_conc, volume_acid, volume_added_points):\n",
        "    \"\"\"\n",
        "    Calculate the pH at each point in the titration of a strong acid with a strong base.\n",
        "\n",
        "    Parameters:\n",
        "    strong_acid_conc (float): Molarity of the strong acid (HCl).\n",
        "    strong_base_conc (float): Molarity of the strong base (NaOH).\n",
        "    volume_acid (float): Volume of the acid in liters.\n",
        "    volume_added_points (array): Volumes of base added in liters.\n",
        "\n",
        "    Returns:\n",
        "    DataFrame: pH values and volume of base added.\n",
        "    \"\"\"\n",
        "    initial_moles_acid = strong_acid_conc * volume_acid\n",
        "    pH_values = []\n",
        "\n",
        "    for volume_base in volume_added_points:\n",
        "        moles_base_added = strong_base_conc * volume_base\n",
        "        moles_H_plus = initial_moles_acid - moles_base_added\n",
        "\n",
        "        if moles_H_plus > 0:\n",
        "            concentration_H_plus = moles_H_plus / (volume_acid + volume_base)\n",
        "            pH = -np.log10(concentration_H_plus)\n",
        "        elif moles_H_plus < 0:\n",
        "            excess_moles_OH = -moles_H_plus\n",
        "            concentration_OH = excess_moles_OH / (volume_acid + volume_base)\n",
        "            pOH = -np.log10(concentration_OH)\n",
        "            pH = 14 - pOH\n",
        "        else:\n",
        "            pH = 7\n",
        "\n",
        "        pH_values.append(pH)\n",
        "\n",
        "    data = pd.DataFrame({\"Volume Base Added (L)\": volume_added_points, \"pH\": pH_values})\n",
        "    return data"
      ],
      "metadata": {
        "id": "FyRNGtZxiO4y"
      },
      "execution_count": null,
      "outputs": []
    },
    {
      "cell_type": "markdown",
      "source": [
        "Ejemplo 10: calcular el punto de equivalencia de una reacción de neutralización entre HCl 0.1M y NaOH 0.1M."
      ],
      "metadata": {
        "id": "ky11feMRia01"
      }
    },
    {
      "cell_type": "code",
      "source": [
        "strong_acid_conc = 0.1\n",
        "strong_base_conc = 0.1\n",
        "volume_acid = 0.05\n",
        "volume_base_added = np.linspace(0, 0.1, 100)\n",
        "\n",
        "titration_data = titration_curve(strong_acid_conc, strong_base_conc, volume_acid, volume_base_added)\n",
        "\n",
        "equivalence_point_index = np.abs(titration_data[\"pH\"] - 7).idxmin()\n",
        "equivalence_volume = titration_data[\"Volume Base Added (L)\"][equivalence_point_index]\n",
        "equivalence_pH = titration_data[\"pH\"][equivalence_point_index]\n",
        "\n",
        "print(f\"Equivalence Point: Volume of base added = {equivalence_volume:.2f} L, pH = {equivalence_pH:.2f}\")\n",
        "\n",
        "plt.figure(figsize=(8, 6))\n",
        "plt.plot(titration_data[\"Volume Base Added (L)\"], titration_data[\"pH\"], label=\"Titration Curve\", color=\"red\")\n",
        "plt.axvline(equivalence_volume, color=\"green\", linestyle=\"--\", label=f\"Equivalence Point: {equivalence_volume:.2f} L\")\n",
        "plt.xlabel(\"Volume of Base Added (L)\")\n",
        "plt.ylabel(\"pH\")\n",
        "plt.title(\"Titration Curve of HCl with NaOH\")\n",
        "plt.legend()\n",
        "plt.grid()\n",
        "plt.show()"
      ],
      "metadata": {
        "colab": {
          "base_uri": "https://localhost:8080/",
          "height": 581
        },
        "id": "1Hzzvmzwi6N3",
        "outputId": "62ce4c04-834b-4669-9f5c-2edcc9370f21"
      },
      "execution_count": null,
      "outputs": [
        {
          "output_type": "stream",
          "name": "stdout",
          "text": [
            "Equivalence Point: Volume of base added = 0.05 L, pH = 10.70\n"
          ]
        },
        {
          "output_type": "display_data",
          "data": {
            "text/plain": [
              "<Figure size 800x600 with 1 Axes>"
            ],
            "image/png": "[encoded data removed]"
          },
          "metadata": {}
        }
      ]
    }
  ]
}